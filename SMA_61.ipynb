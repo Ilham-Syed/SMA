{
  "nbformat": 4,
  "nbformat_minor": 0,
  "metadata": {
    "colab": {
      "provenance": []
    },
    "kernelspec": {
      "name": "python3",
      "display_name": "Python 3"
    },
    "language_info": {
      "name": "python"
    }
  },
  "cells": [
    {
      "cell_type": "markdown",
      "source": [
        "NEP\n"
      ],
      "metadata": {
        "id": "W2lSs0b8Ytp4"
      }
    },
    {
      "cell_type": "code",
      "execution_count": null,
      "metadata": {
        "id": "oKWe7R32Yl57"
      },
      "outputs": [],
      "source": [
        "#datset-https://www.kaggle.com/datasets/rishabh6377/india-national-education-policy2020-tweets-dataset\n",
        "import numpy as np\n",
        "import pandas as pd\n",
        "import re\n",
        "import string\n",
        "import matplotlib.pyplot as plt\n",
        "from textblob import TextBlob\n",
        "import nltk\n",
        "from nltk.corpus import stopwords\n",
        "\n",
        "# Load dataset\n",
        "education = pd.read_csv(\"../input/india-national-education-policy2020-tweets-dataset/NEP_2020_english_tweet.csv\")\n",
        "\n",
        "# Download stopwords if needed\n",
        "nltk.download('stopwords')\n",
        "\n",
        "# Preparing stopwords, keeping n't words like \"hasn't\"\n",
        "stopword_list = [word for word in stopwords.words('english') if \"n't\" not in word]\n",
        "\n",
        "# Text Preprocessing\n",
        "def preprocess(text):\n",
        "    text = text.strip().lower()\n",
        "    text = re.sub(r'(@\\w+|#\\w+|https?://\\S+|www\\.\\S+)', '', text)  # Remove mentions, hashtags, links\n",
        "    text = text.translate(str.maketrans(string.punctuation, ' ' * len(string.punctuation)))  # Remove punctuation\n",
        "    words = [word for word in text.split() if word not in stopword_list and len(word) > 1 and not word.isdigit()]\n",
        "    return \" \".join(words)\n",
        "\n",
        "education['Processed'] = education['Tweet'].apply(preprocess)\n",
        "\n",
        "# Sentiment Functions\n",
        "def get_subjectivity(text):\n",
        "    return TextBlob(text).sentiment.subjectivity\n",
        "\n",
        "def get_polarity(text):\n",
        "    return TextBlob(text).sentiment.polarity\n",
        "\n",
        "def get_sentiment(polarity):\n",
        "    if polarity < 0:\n",
        "        return 'Negative'\n",
        "    elif polarity == 0:\n",
        "        return 'Neutral'\n",
        "    else:\n",
        "        return 'Positive'\n",
        "\n",
        "# Apply Sentiment Analysis\n",
        "education['subjectivity'] = education['Processed'].apply(get_subjectivity)\n",
        "education['polarity'] = education['Processed'].apply(get_polarity)\n",
        "education['Sentiment'] = education['polarity'].apply(get_sentiment)\n",
        "\n",
        "# Plotting\n",
        "plt.figure(figsize=(8,6))\n",
        "education['Sentiment'].value_counts().plot(kind='bar', color='skyblue')\n",
        "plt.xlabel(\"Sentiments\")\n",
        "plt.ylabel(\"Frequency\")\n",
        "plt.title(\"Sentiment Analysis of NEP 2020 Tweets\")\n",
        "plt.show()\n",
        "\n"
      ]
    },
    {
      "cell_type": "markdown",
      "source": [
        "IPL"
      ],
      "metadata": {
        "id": "vUyJfdiCY21K"
      }
    },
    {
      "cell_type": "code",
      "source": [
        "#dataset-https://www.kaggle.com/datasets/patrickb1912/ipl-complete-dataset-20082020\n",
        "import pandas as pd\n",
        "import matplotlib.pyplot as plt\n",
        "\n",
        "# Load the data\n",
        "deliveries = pd.read_csv('/mnt/data/deliveries.csv')\n",
        "\n",
        "# Basic preprocessing: remove rows where batter or bowler info is missing\n",
        "deliveries = deliveries.dropna(subset=['batter', 'bowler'])\n",
        "\n",
        "# --- Plot 1: Total Runs scored by each team ---\n",
        "team_runs = deliveries.groupby('batting_team')['total_runs'].sum().sort_values(ascending=False)\n",
        "\n",
        "plt.figure(figsize=(10,6))\n",
        "team_runs.plot(kind='bar', color='skyblue')\n",
        "plt.title('Total Runs by Each Batting Team')\n",
        "plt.xlabel('Batting Team')\n",
        "plt.ylabel('Total Runs')\n",
        "plt.xticks(rotation=45)\n",
        "plt.show()\n",
        "\n",
        "# --- Plot 2: Total Wickets taken by each bowling team ---\n",
        "wickets = deliveries[deliveries['is_wicket'] == 1]\n",
        "team_wickets = wickets['bowling_team'].value_counts()\n",
        "\n",
        "plt.figure(figsize=(10,6))\n",
        "team_wickets.plot(kind='bar', color='salmon')\n",
        "plt.title('Total Wickets Taken by Each Bowling Team')\n",
        "plt.xlabel('Bowling Team')\n",
        "plt.ylabel('Wickets Taken')\n",
        "plt.xticks(rotation=45)\n",
        "plt.show()\n"
      ],
      "metadata": {
        "id": "_QMDLMK5Y3Md"
      },
      "execution_count": null,
      "outputs": []
    },
    {
      "cell_type": "markdown",
      "source": [
        "Amazon Product"
      ],
      "metadata": {
        "id": "vdScxAc9ZpGq"
      }
    },
    {
      "cell_type": "code",
      "source": [
        "#dataset-https://www.kaggle.com/datasets/promptcloud/amazon-product-reviews-dataset/data\n",
        "\n",
        "import pandas as pd\n",
        "import matplotlib.pyplot as plt\n",
        "from textblob import TextBlob\n",
        "\n",
        "# Load the data\n",
        "reviews = pd.read_csv('/mnt/data/amazon_com-product_reviews__20200101_20200331_sample.csv')\n",
        "\n",
        "# Keep only necessary columns\n",
        "reviews = reviews[['Review Content', 'Review Rating']]\n",
        "\n",
        "# Drop missing reviews\n",
        "reviews = reviews.dropna(subset=['Review Content'])\n",
        "\n",
        "# --- Sentiment Analysis ---\n",
        "def get_polarity(text):\n",
        "    return TextBlob(text).sentiment.polarity\n",
        "\n",
        "def get_sentiment(score):\n",
        "    if score < 0:\n",
        "        return 'Negative'\n",
        "    elif score == 0:\n",
        "        return 'Neutral'\n",
        "    else:\n",
        "        return 'Positive'\n",
        "\n",
        "# Apply functions\n",
        "reviews['Polarity'] = reviews['Review Content'].apply(get_polarity)\n",
        "reviews['Sentiment'] = reviews['Polarity'].apply(get_sentiment)\n",
        "\n",
        "# --- Plot 1: Sentiment Distribution ---\n",
        "plt.figure(figsize=(8,5))\n",
        "reviews['Sentiment'].value_counts().plot(kind='bar', color='lightgreen')\n",
        "plt.title('Sentiment Analysis of Reviews')\n",
        "plt.xlabel('Sentiment')\n",
        "plt.ylabel('Number of Reviews')\n",
        "plt.show()\n",
        "\n",
        "# --- Plot 2: Rating Distribution (Pie Chart) ---\n",
        "plt.figure(figsize=(6,6))\n",
        "reviews['Review Rating'].value_counts().plot(kind='pie', autopct='%1.1f%%', startangle=140, colors=plt.cm.Paired.colors)\n",
        "plt.title('Review Rating Distribution')\n",
        "plt.ylabel('')\n",
        "plt.show()\n"
      ],
      "metadata": {
        "id": "P4eKzedRbI_u"
      },
      "execution_count": null,
      "outputs": []
    },
    {
      "cell_type": "markdown",
      "source": [
        "Brand Twitter analysis-US Airlines"
      ],
      "metadata": {
        "id": "E1FQoLyAc812"
      }
    },
    {
      "cell_type": "code",
      "source": [
        "#dataset-https://www.kaggle.com/datasets/crowdflower/twitter-airline-sentiment/data\n",
        "\n",
        "import pandas as pd\n",
        "import numpy as np\n",
        "import matplotlib.pyplot as plt\n",
        "import seaborn as sns\n",
        "import re\n",
        "import nltk\n",
        "from nltk.corpus import stopwords\n",
        "from sklearn.model_selection import train_test_split\n",
        "from sklearn.feature_extraction.text import CountVectorizer, TfidfVectorizer\n",
        "from sklearn.linear_model import LogisticRegression\n",
        "from sklearn.metrics import classification_report, confusion_matrix\n",
        "\n",
        "df = pd.read_csv(\"/kaggle/input/twitter-airline-sentiment/Tweets.csv\")\n",
        "df.head()\n",
        "sns.countplot(x=\"airline_sentiment\", data=df, palette=\"viridis\")\n",
        "plt.title(\"Sentiment Distribution\")\n",
        "plt.show()\n",
        "\n",
        "nltk.download('stopwords')\n",
        "stop_words = set(stopwords.words('english'))\n",
        "\n",
        "def clean_tweet(tweet):\n",
        "    tweet = re.sub(r\"http\\S+|@\\S+|[^a-zA-Z\\s]\", \"\", tweet)\n",
        "    tweet = tweet.lower()\n",
        "    tweet = \" \".join(word for word in tweet.split() if word not in stop_words)\n",
        "    return tweet\n",
        "\n",
        "df['clean_text'] = df['text'].apply(clean_tweet)\n",
        "\n",
        "from wordcloud import WordCloud\n",
        "\n",
        "for sentiment in ['positive', 'negative', 'neutral']:\n",
        "    text = \" \".join(df[df['airline_sentiment'] == sentiment]['clean_text'])\n",
        "    wordcloud = WordCloud(width=800, height=400, background_color='white').generate(text)\n",
        "    plt.figure(figsize=(8, 4))\n",
        "    plt.imshow(wordcloud, interpolation='bilinear')\n",
        "    plt.axis('off')\n",
        "    plt.title(f\"WordCloud - {sentiment.capitalize()} Tweets\")\n",
        "    plt.show()"
      ],
      "metadata": {
        "id": "PD86bKSIc_Mu"
      },
      "execution_count": null,
      "outputs": []
    },
    {
      "cell_type": "markdown",
      "source": [
        "Negative Tweet reviews-Amazon Product"
      ],
      "metadata": {
        "id": "Al0o5Ce-ex6R"
      }
    },
    {
      "cell_type": "code",
      "source": [
        "#dataset-https://www.kaggle.com/datasets/promptcloud/amazon-product-reviews-dataset/data\n",
        "import pandas as pd\n",
        "import matplotlib.pyplot as plt\n",
        "from textblob import TextBlob\n",
        "\n",
        "# Load the data\n",
        "reviews = pd.read_csv('/mnt/data/amazon_com-product_reviews__20200101_20200331_sample.csv')\n",
        "\n",
        "# Keep only necessary columns\n",
        "reviews = reviews[['Review Content', 'Review Rating']]\n",
        "\n",
        "# Drop missing reviews\n",
        "reviews = reviews.dropna(subset=['Review Content'])\n",
        "\n",
        "# --- Sentiment Analysis ---\n",
        "def get_polarity(text):\n",
        "    return TextBlob(text).sentiment.polarity\n",
        "\n",
        "def get_sentiment(score):\n",
        "    if score < 0:\n",
        "        return 'Negative'\n",
        "    elif score == 0:\n",
        "        return 'Neutral'\n",
        "    else:\n",
        "        return 'Positive'\n",
        "\n",
        "# Apply functions\n",
        "reviews['Polarity'] = reviews['Review Content'].apply(get_polarity)\n",
        "reviews['Sentiment'] = reviews['Polarity'].apply(get_sentiment)\n",
        "# Filter only negative reviews\n",
        "negative_reviews = reviews[reviews['Sentiment'] == 'Negative']\n",
        "\n",
        "# Show few examples\n",
        "print(\"Sample Negative Reviews:\\n\")\n",
        "print(negative_reviews['Review Content'].head())\n",
        "\n",
        "# Count how many negative reviews\n",
        "print(\"\\nTotal Negative Reviews:\", negative_reviews.shape[0])\n",
        "\n",
        "# --- Plot: Most Common Words in Negative Reviews ---\n",
        "\n",
        "from collections import Counter\n",
        "import re\n",
        "\n",
        "# Combine all negative review texts into one string\n",
        "text = \" \".join(negative_reviews['Review Content'].tolist())\n",
        "\n",
        "# Simple cleaning: remove punctuation and numbers\n",
        "text = re.sub(r'[^A-Za-z\\s]', '', text)\n",
        "\n",
        "# Split into words\n",
        "words = text.lower().split()\n",
        "\n",
        "# Optional: Remove very common English stopwords\n",
        "from nltk.corpus import stopwords\n",
        "stop_words = set(stopwords.words('english'))\n",
        "words = [word for word in words if word not in stop_words and len(word) > 2]\n",
        "\n",
        "# Count word frequency\n",
        "word_counts = Counter(words)\n",
        "\n",
        "# Plot top 15 words\n",
        "top_words = dict(word_counts.most_common(15))\n",
        "\n",
        "plt.figure(figsize=(10,6))\n",
        "plt.bar(top_words.keys(), top_words.values(), color='tomato')\n",
        "plt.xticks(rotation=45)\n",
        "plt.title('Top Words in Negative Reviews')\n",
        "plt.xlabel('Words')\n",
        "plt.ylabel('Frequency')\n",
        "plt.show()\n"
      ],
      "metadata": {
        "id": "pR4L1k0jdcIY"
      },
      "execution_count": null,
      "outputs": []
    },
    {
      "cell_type": "markdown",
      "source": [
        "Popularity of local businesses"
      ],
      "metadata": {
        "id": "xUNp1mP2gZPn"
      }
    },
    {
      "cell_type": "code",
      "source": [
        "#Dataset-https://www.kaggle.com/datasets/yogeshrampariya/indian-company-dataset\n",
        "import pandas as pd\n",
        "from io import StringIO\n",
        "\n",
        "# Load the CSV data\n",
        "df = pd.read_csv(\"/path\")\n",
        "\n",
        "# Clean review data and convert to numeric\n",
        "df['review_count'] = df['review'].str.replace('[\\(\\)k]', '', regex=True)\\\n",
        "    .str.replace(' Reviews', '')\\\n",
        "    .replace('', 0)\\\n",
        "    .apply(lambda x: float(x.replace(' ', '')) * 1000 if 'k' in x else float(x))\n",
        "\n",
        "# Get top businesses by review count\n",
        "top_by_reviews = df[['name', 'review_count', 'rating']]\\\n",
        "    .sort_values('review_count', ascending=False)\\\n",
        "    .head(10)\n",
        "\n",
        "# Get top businesses by rating\n",
        "top_by_rating = df[['name', 'rating', 'review_count']]\\\n",
        "    .sort_values(['rating', 'review_count'], ascending=[False, False])\\\n",
        "    .head(10)\n",
        "\n",
        "print(\"Top 10 Businesses by Popularity (Reviews):\")\n",
        "print(top_by_reviews.to_string(index=False))\n",
        "print(\"\\nTop 10 Businesses by Customer Satisfaction (Rating):\")\n",
        "print(top_by_rating.to_string(index=False))"
      ],
      "metadata": {
        "id": "b2ryOvANgZk3"
      },
      "execution_count": null,
      "outputs": []
    },
    {
      "cell_type": "code",
      "source": [],
      "metadata": {
        "id": "aEFbkNY4gazW"
      },
      "execution_count": null,
      "outputs": []
    }
  ]
}